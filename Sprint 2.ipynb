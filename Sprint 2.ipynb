{
 "cells": [
  {
   "cell_type": "markdown",
   "metadata": {},
   "source": [
    "Exercise 1\n",
    "In your file create a variable called my_name with your name as the value. Put your name inside string quotes, e.g., \"my name\". Then add a line of code to print the variable name."
   ]
  },
  {
   "cell_type": "code",
   "execution_count": 1,
   "metadata": {},
   "outputs": [
    {
     "name": "stdout",
     "output_type": "stream",
     "text": [
      "Sudha\n"
     ]
    }
   ],
   "source": [
    "My_name = \"Sudha\"\n",
    "print(My_name)"
   ]
  },
  {
   "cell_type": "markdown",
   "metadata": {},
   "source": [
    "Exercise 2\n",
    "Create a variable called age with a number that is your age. Do not use string quotes for numbers.\n",
    "\n",
    "Add a line to print that variable. Save the file and run the cell. You should see your age."
   ]
  },
  {
   "cell_type": "code",
   "execution_count": 27,
   "metadata": {},
   "outputs": [
    {
     "name": "stdout",
     "output_type": "stream",
     "text": [
      "30\n"
     ]
    }
   ],
   "source": [
    "My_Age = 30\n",
    "print(My_Age)"
   ]
  },
  {
   "cell_type": "markdown",
   "metadata": {},
   "source": [
    "Exercise 3\n",
    "Create a variable called julia_age with the value 32. Create another variable called age_diff and set it to an expression that calculates your age minus Julias's age. Print your age and the value of age_diff. If you are younger than Julia, age_diff should be a negative number.\n",
    "\n",
    "Writing Code with Conditionals\n",
    "Conditionals are forms used in programming to tell the computer to do different things, depending on some test, e.g., \"if the user is logged in, say \"Hi\", else say \"Please log in.\"\n",
    "\n",
    "The most basic conditional form is if...else..."
   ]
  },
  {
   "cell_type": "code",
   "execution_count": 28,
   "metadata": {},
   "outputs": [
    {
     "name": "stdout",
     "output_type": "stream",
     "text": [
      "32\n"
     ]
    }
   ],
   "source": [
    "Julia_Age = 32\n",
    "print(Julia_Age)"
   ]
  },
  {
   "cell_type": "code",
   "execution_count": 18,
   "metadata": {},
   "outputs": [
    {
     "name": "stdout",
     "output_type": "stream",
     "text": [
      "My age: 30\n",
      "Age difference: -2\n"
     ]
    }
   ],
   "source": [
    "\n",
    "My_Age = 30\n",
    "Julia_Age = 32\n",
    "age_diff = My_Age  - Julia_Age  \n",
    "\n",
    "print(\"My age:\", My_Age)\n",
    "print(\"Age difference:\", age_diff)"
   ]
  },
  {
   "cell_type": "markdown",
   "metadata": {},
   "source": [
    "Writing Code with Conditionals\n",
    "Conditionals are forms used in programming to tell the computer to do different things, depending on some test, e.g., \"if the user is logged in, say \"Hi\", else say \"Please log in.\"\n",
    "\n",
    "The most basic conditional form is if...else..."
   ]
  },
  {
   "cell_type": "code",
   "execution_count": 29,
   "metadata": {},
   "outputs": [
    {
     "name": "stdout",
     "output_type": "stream",
     "text": [
      "You are an adult.\n"
     ]
    }
   ],
   "source": [
    "age = 30\n",
    "if age >= 21: \n",
    "    print(\"You are an adult.\")\n",
    "else: print(\"You are a minor.\")"
   ]
  },
  {
   "cell_type": "markdown",
   "metadata": {},
   "source": [
    "Exercise 4\n",
    "Write a conditional that compares the variable holding your age with the number 21. It should print either \"You are older than 21\" or \"You are not older than 21\", appropriately, depending on your age. Save your file and run the cell. Make sure you see the correct message. Try changing your age in the file to make sure the other message prints when it should."
   ]
  },
  {
   "cell_type": "code",
   "execution_count": 17,
   "metadata": {},
   "outputs": [
    {
     "name": "stdout",
     "output_type": "stream",
     "text": [
      "You are older than 21\n"
     ]
    }
   ],
   "source": [
    "My_age = 30\n",
    "\n",
    "if My_age > 21:\n",
    "    print(\"You are older than 21\")\n",
    "else:\n",
    "    print(\"You are not older than 21\")"
   ]
  },
  {
   "cell_type": "markdown",
   "metadata": {},
   "source": [
    "Exercise 5\n",
    "Write a conditional that compares your age with Julia's age. This conditional will need to test if you are older, younger, or the same age, and print, appropriately, either \"Julia is older than you\", \"Julia is younger than you\", or \"You are the same age as Julia\"."
   ]
  },
  {
   "cell_type": "code",
   "execution_count": 26,
   "metadata": {},
   "outputs": [
    {
     "name": "stdout",
     "output_type": "stream",
     "text": [
      "Julia is older than you\n"
     ]
    }
   ],
   "source": [
    "My_age = 30 \n",
    "Julia_age = 32\n",
    "\t\n",
    "if My_age > Julia_age: \n",
    "    print(\"You are older than Julia\")\n",
    "elif My_age < Julia_age:\n",
    "    print(\"Julia is older than you\")\n",
    "else: \n",
    "    print(\"You are the same age as Julia\")"
   ]
  },
  {
   "cell_type": "markdown",
   "metadata": {},
   "source": [
    "Exercise 6\n",
    "Create a list with all the names of your class (including mentors). Sort the list alphabetically, then print the first element of the list.\n",
    "On the next line, print the last element of the list.\n",
    "On the next line, print all the elements of the list (use a \"for\" loop).\n",
    "You should see the first element of the sorted list, the last element of the sorted list, and then all the elements in sorted order."
   ]
  },
  {
   "cell_type": "code",
   "execution_count": null,
   "metadata": {},
   "outputs": [
    {
     "name": "stdout",
     "output_type": "stream",
     "text": [
      "['Alex', 'Emily', 'Jost', 'Lucas', 'Pablo', 'Rakesh', 'Sudha', 'Tim']\n",
      "Alex\n",
      "Jost\n"
     ]
    }
   ],
   "source": [
    "My_List = [\"Alex\", \"Tim\", \"Pablo\", \"Sudha\", \"Rakesh\", \"Emily\", \"Lucas\", \"Jost\"]\n",
    "sort_My_List = sorted(My_List)\n",
    "print(sort_My_List)\n",
    "print(My_List[0])\n",
    "print(My_List[-1])\n"
   ]
  },
  {
   "cell_type": "markdown",
   "metadata": {},
   "source": [
    "Exercise 7\n",
    "Create a list with all the ages of the students in your class. Iterate through the list using a for loop, and then print every age. Add a conditional inside the loop to only print even numbers.\n",
    "You should see every age printed, then only the even numbers printed. If not, investigate and fix it.\n",
    "Then do the same using a while loop."
   ]
  },
  {
   "cell_type": "code",
   "execution_count": null,
   "metadata": {},
   "outputs": [
    {
     "name": "stdout",
     "output_type": "stream",
     "text": [
      "Student_Ages:\n",
      "18\n",
      "21\n",
      "22\n",
      "20\n",
      "25\n",
      "24\n",
      "26\n",
      "30\n",
      "Even ages (for loop):\n",
      "18\n",
      "21\n",
      "22\n",
      "20\n",
      "25\n",
      "24\n",
      "26\n",
      "30\n",
      "Even ages (while loop):\n"
     ]
    }
   ],
   "source": [
    "My_List = [\"Alex\", \"Tim\", \"Pablo\", \"Sudha\", \"Rakesh\", \"Emily\", \"Lucas\", \"Jost\"]\n",
    "Student_Ages = [18, 21, 22, 20, 25, 24, 26, 30]\n",
    "print(\"Student_Ages:\")\n",
    "for age in Student_Ages:\n",
    "  print(age)\n",
    "\n",
    "print(\"Even ages (for loop):\")\n",
    "for age in Student_Ages:\n",
    "  print(age)\n",
    "\n",
    "#Print only even ages using a while loop\n",
    "print(\"Even ages (while loop):\")\n",
    "i = 0\n",
    "while i< len(Student_Ages):\n",
    " age = Student_Ages[i]\n",
    "if age % 2 == 0:\n",
    " print(age)\n",
    "i += 1"
   ]
  }
 ],
 "metadata": {
  "kernelspec": {
   "display_name": "base",
   "language": "python",
   "name": "python3"
  },
  "language_info": {
   "codemirror_mode": {
    "name": "ipython",
    "version": 3
   },
   "file_extension": ".py",
   "mimetype": "text/x-python",
   "name": "python",
   "nbconvert_exporter": "python",
   "pygments_lexer": "ipython3",
   "version": "3.12.7"
  }
 },
 "nbformat": 4,
 "nbformat_minor": 2
}
