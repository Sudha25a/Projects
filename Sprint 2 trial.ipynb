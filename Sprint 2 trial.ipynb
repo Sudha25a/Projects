{
 "cells": [
  {
   "cell_type": "markdown",
   "metadata": {},
   "source": [
    "Exercise 1\n",
    "In your file create a variable called my_name with your name as the value. Put your name inside string quotes, e.g., \"my name\". Then add a line of code to print the variable name."
   ]
  },
  {
   "cell_type": "code",
   "execution_count": 1,
   "metadata": {},
   "outputs": [
    {
     "name": "stdout",
     "output_type": "stream",
     "text": [
      "Sudha\n"
     ]
    }
   ],
   "source": [
    "My_name = \"Sudha\"\n",
    "print(My_name)"
   ]
  },
  {
   "cell_type": "markdown",
   "metadata": {},
   "source": [
    "Exercise 2\n",
    "Create a variable called age with a number that is your age. Do not use string quotes for numbers.\n",
    "\n",
    "Add a line to print that variable. Save the file and run the cell. You should see your age."
   ]
  },
  {
   "cell_type": "code",
   "execution_count": 2,
   "metadata": {},
   "outputs": [
    {
     "name": "stdout",
     "output_type": "stream",
     "text": [
      "30\n"
     ]
    }
   ],
   "source": [
    "My_Age = 30\n",
    "print(My_Age)"
   ]
  },
  {
   "cell_type": "markdown",
   "metadata": {},
   "source": [
    "Exercise 3\n",
    "Create a variable called julia_age with the value 32. Create another variable called age_diff and set it to an expression that calculates your age minus Julias's age. Print your age and the value of age_diff. If you are younger than Julia, age_diff should be a negative number.\n",
    "\n",
    "Writing Code with Conditionals\n",
    "Conditionals are forms used in programming to tell the computer to do different things, depending on some test, e.g., \"if the user is logged in, say \"Hi\", else say \"Please log in.\"\n",
    "\n",
    "The most basic conditional form is if...else..."
   ]
  },
  {
   "cell_type": "code",
   "execution_count": 3,
   "metadata": {},
   "outputs": [
    {
     "name": "stdout",
     "output_type": "stream",
     "text": [
      "32\n"
     ]
    }
   ],
   "source": [
    "Julia_Age = 32\n",
    "print(Julia_Age)"
   ]
  },
  {
   "cell_type": "code",
   "execution_count": 4,
   "metadata": {},
   "outputs": [
    {
     "name": "stdout",
     "output_type": "stream",
     "text": [
      "My age: 30\n",
      "Age difference: -2\n"
     ]
    }
   ],
   "source": [
    "\n",
    "My_Age = 30\n",
    "Julia_Age = 32\n",
    "age_diff = My_Age  - Julia_Age  \n",
    "\n",
    "print(\"My age:\", My_Age)\n",
    "print(\"Age difference:\", age_diff)"
   ]
  },
  {
   "cell_type": "markdown",
   "metadata": {},
   "source": [
    "Writing Code with Conditionals\n",
    "Conditionals are forms used in programming to tell the computer to do different things, depending on some test, e.g., \"if the user is logged in, say \"Hi\", else say \"Please log in.\"\n",
    "\n",
    "The most basic conditional form is if...else..."
   ]
  },
  {
   "cell_type": "code",
   "execution_count": 5,
   "metadata": {},
   "outputs": [
    {
     "name": "stdout",
     "output_type": "stream",
     "text": [
      "You are an adult.\n"
     ]
    }
   ],
   "source": [
    "age = 30\n",
    "if age >= 21: \n",
    "    print(\"You are an adult.\")\n",
    "else: print(\"You are a minor.\")"
   ]
  },
  {
   "cell_type": "markdown",
   "metadata": {},
   "source": [
    "Exercise 4\n",
    "Write a conditional that compares the variable holding your age with the number 21. It should print either \"You are older than 21\" or \"You are not older than 21\", appropriately, depending on your age. Save your file and run the cell. Make sure you see the correct message. Try changing your age in the file to make sure the other message prints when it should."
   ]
  },
  {
   "cell_type": "code",
   "execution_count": 6,
   "metadata": {},
   "outputs": [
    {
     "name": "stdout",
     "output_type": "stream",
     "text": [
      "You are older than 21\n"
     ]
    }
   ],
   "source": [
    "My_age = 30\n",
    "\n",
    "if My_age > 21:\n",
    "    print(\"You are older than 21\")\n",
    "else:\n",
    "    print(\"You are not older than 21\")"
   ]
  },
  {
   "cell_type": "markdown",
   "metadata": {},
   "source": [
    "Exercise 5\n",
    "Write a conditional that compares your age with Julia's age. This conditional will need to test if you are older, younger, or the same age, and print, appropriately, either \"Julia is older than you\", \"Julia is younger than you\", or \"You are the same age as Julia\"."
   ]
  },
  {
   "cell_type": "code",
   "execution_count": 7,
   "metadata": {},
   "outputs": [
    {
     "name": "stdout",
     "output_type": "stream",
     "text": [
      "Julia is older than you\n"
     ]
    }
   ],
   "source": [
    "My_age = 30 \n",
    "Julia_age = 32\n",
    "\t\n",
    "if My_age > Julia_age: \n",
    "    print(\"You are older than Julia\")\n",
    "elif My_age < Julia_age:\n",
    "    print(\"Julia is older than you\")\n",
    "else: \n",
    "    print(\"You are the same age as Julia\")"
   ]
  },
  {
   "cell_type": "markdown",
   "metadata": {},
   "source": [
    "Exercise 6\n",
    "Create a list with all the names of your class (including mentors). Sort the list alphabetically, then print the first element of the list.\n",
    "On the next line, print the last element of the list.\n",
    "On the next line, print all the elements of the list (use a \"for\" loop).\n",
    "You should see the first element of the sorted list, the last element of the sorted list, and then all the elements in sorted order."
   ]
  },
  {
   "cell_type": "code",
   "execution_count": 42,
   "metadata": {},
   "outputs": [
    {
     "name": "stdout",
     "output_type": "stream",
     "text": [
      "['Alex', 'Emily', 'Jost', 'Lucas', 'Pablo', 'Rakesh', 'Sudha', 'Tim']\n",
      "Alex\n",
      "Jost\n",
      "sort my list:\n",
      "Alex\n",
      "Emily\n",
      "Jost\n",
      "Lucas\n",
      "Pablo\n",
      "Rakesh\n",
      "Sudha\n",
      "Tim\n"
     ]
    }
   ],
   "source": [
    "My_List = [\"Alex\", \"Tim\", \"Pablo\", \"Sudha\", \"Rakesh\", \"Emily\", \"Lucas\", \"Jost\"]\n",
    "sort_My_List = sorted(My_List)\n",
    "print(sort_My_List)\n",
    "print(My_List[0])\n",
    "print(My_List[-1])\n",
    "\n",
    "print(\"sort my list:\")\n",
    "for x in sort_My_List:\n",
    "    print(x)\n"
   ]
  },
  {
   "cell_type": "markdown",
   "metadata": {},
   "source": [
    "Exercise 7\n",
    "Create a list with all the ages of the students in your class. Iterate through the list using a for loop, and then print every age. Add a conditional inside the loop to only print even numbers.\n",
    "You should see every age printed, then only the even numbers printed. If not, investigate and fix it.\n",
    "Then do the same using a while loop."
   ]
  },
  {
   "cell_type": "code",
   "execution_count": null,
   "metadata": {},
   "outputs": [
    {
     "name": "stdout",
     "output_type": "stream",
     "text": [
      "Student_Ages:\n",
      "18\n",
      "21\n",
      "22\n",
      "20\n",
      "25\n",
      "24\n",
      "26\n",
      "30\n",
      "Even ages (for loop):\n",
      "18\n",
      "22\n",
      "20\n",
      "24\n",
      "26\n",
      "30\n",
      " Even ages (while loop):\n",
      "18\n",
      "22\n",
      "20\n",
      "24\n",
      "26\n",
      "30\n"
     ]
    }
   ],
   "source": [
    "My_List = [\"Alex\", \"Tim\", \"Pablo\", \"Sudha\", \"Rakesh\", \"Emily\", \"Lucas\", \"Jost\"]\n",
    "Student_Ages = [18, 21, 22, 20, 25, 24, 26, 30]\n",
    "print(\"Student_Ages:\")\n",
    "for age in Student_Ages:\n",
    "  print(age)\n",
    "\n",
    "# for loop method\n",
    "print(\"Even ages (for loop):\")\n",
    "for age in Student_Ages:\n",
    "  if age % 2 == 0:\n",
    "    print(age)\n",
    "\n",
    "# while loop methord\n",
    "len(Student_Ages)\n",
    "#Print only even ages using a while loop\n",
    "print(\" Even ages (while loop):\")\n",
    "i = 0\n",
    "while i < len(Student_Ages):\n",
    "  age = Student_Ages[i]\n",
    "  if age % 2 == 0:\n",
    "    print(age)\n",
    "  i =  i + 1"
   ]
  },
  {
   "cell_type": "markdown",
   "metadata": {},
   "source": [
    "Exercise 8\n",
    "Write a list containing numbers and print the lowest number."
   ]
  },
  {
   "cell_type": "code",
   "execution_count": 46,
   "metadata": {},
   "outputs": [
    {
     "name": "stdout",
     "output_type": "stream",
     "text": [
      "18\n"
     ]
    }
   ],
   "source": [
    "#using min methord:\n",
    "Student_Ages = [18, 21, 22, 20, 25, 24, 26, 30]\n",
    "smallest = min(Student_Ages)\n",
    "print(smallest)"
   ]
  },
  {
   "cell_type": "markdown",
   "metadata": {},
   "source": [
    "Exercise 9\n",
    "Write a list containing numbers and print the highest number."
   ]
  },
  {
   "cell_type": "code",
   "execution_count": null,
   "metadata": {},
   "outputs": [
    {
     "name": "stdout",
     "output_type": "stream",
     "text": [
      "30\n"
     ]
    }
   ],
   "source": [
    "#using max methord\n",
    "Student_Ages = [18, 21, 22, 20, 25, 24, 26, 30]\n",
    "highest = max(Student_Ages)\n",
    "print(highest)"
   ]
  },
  {
   "cell_type": "markdown",
   "metadata": {},
   "source": [
    "Exercise 10\n",
    "Given below is a list of 10 customers with year of birth, however, the list can be as large as several thousands of customers.\n",
    "Use a loop to iterate over the list and print the age of each customer."
   ]
  },
  {
   "cell_type": "code",
   "execution_count": 48,
   "metadata": {},
   "outputs": [
    {
     "name": "stdout",
     "output_type": "stream",
     "text": [
      "25\n",
      "29\n",
      "19\n",
      "14\n",
      "17\n",
      "18\n",
      "30\n",
      "28\n",
      "45\n",
      "16\n"
     ]
    }
   ],
   "source": [
    "#using for loop method:\n",
    "Year_of_Birth = [1999, 1995, 2005, 2010, 2007, 2006, 1994, 1996, 1979, 2008]\n",
    "for X in Year_of_Birth:\n",
    "    print(2024-X)"
   ]
  },
  {
   "cell_type": "code",
   "execution_count": 50,
   "metadata": {},
   "outputs": [
    {
     "name": "stdout",
     "output_type": "stream",
     "text": [
      "25\n",
      "29\n",
      "19\n",
      "14\n",
      "17\n",
      "18\n",
      "30\n",
      "28\n",
      "45\n",
      "16\n"
     ]
    }
   ],
   "source": [
    "Year_of_Birth = [1999, 1995, 2005, 2010, 2007, 2006, 1994, 1996, 1979, 2008]\n",
    "current_year = 2024\n",
    "def age_function(current_year, Year_of_Birth):\n",
    "    for X in Year_of_Birth:\n",
    "        print(current_year-X)\n",
    "\n",
    "age_function(current_year, Year_of_Birth)"
   ]
  },
  {
   "cell_type": "markdown",
   "metadata": {},
   "source": [
    "Exercise 11\n",
    "Given below is a list of 10 customers with name and year of birth, however, the list can be as large as several thousands of customers.\n",
    "Use a loop to iterate over the list and print the name and age of each customer.\n",
    "Afterwards, for each customer try to print the sentence \"customer_name is customer_age years old\".\n",
    "customer_name and customer_age should correspond to each customer's name and age."
   ]
  },
  {
   "cell_type": "code",
   "execution_count": null,
   "metadata": {},
   "outputs": [
    {
     "name": "stdout",
     "output_type": "stream",
     "text": [
      "Bob is 26 years old.\n",
      "Jack is 30 years old.\n",
      "Lisa is 20 years old.\n",
      "Maria is 15 years old.\n",
      "Ben is 18 years old.\n",
      "Emma is 19 years old.\n",
      "Oscar is 31 years old.\n",
      "Amy is 29 years old.\n",
      "Paul is 46 years old.\n",
      "Etta is 17 years old.\n"
     ]
    }
   ],
   "source": [
    "customer_list = [\n",
    "{\"name\": \"Bob\", \"age\": 1999},\n",
    "{\"name\": \"Jack\", \"age\": 1995},\n",
    "{\"name\": \"Lisa\", \"age\": 2005},\n",
    "{\"name\": \"Maria\", \"age\": 2010},\n",
    "{\"name\": \"Ben\", \"age\": 2007},\n",
    "{\"name\": \"Emma\", \"age\": 2006},\n",
    "{\"name\": \"Oscar\", \"age\": 1994},\n",
    "{\"name\": \"Amy\", \"age\": 1996},\n",
    "{\"name\": \"Paul\", \"age\": 1979},\n",
    "{\"name\": \"Etta\", \"age\": 2008}\n",
    "]\n",
    "#for loop\n",
    "for customer in customer_list:\n",
    "    name = customer[\"name\"]\n",
    "    age = customer[\"age\"]\n",
    "    print(f\"{name} is {2024 - age} years old.\")\n"
   ]
  },
  {
   "cell_type": "markdown",
   "metadata": {},
   "source": [
    "Exercise 12\n",
    "Given a list of ages, remove the youngest and the oldest person.\n",
    "ages = [20, 24, 14, 9, 12, 13, 25, 23, 40, 11]\n",
    "For this exercise try not to use the max() and min() methods."
   ]
  },
  {
   "cell_type": "code",
   "execution_count": 55,
   "metadata": {},
   "outputs": [
    {
     "name": "stdout",
     "output_type": "stream",
     "text": [
      "[9, 11, 12, 13, 14, 20, 23, 24, 25, 40]\n",
      "[11, 12, 13, 14, 20, 23, 24, 25]\n"
     ]
    }
   ],
   "source": [
    "ages = [20, 24, 14, 9, 12, 13, 25, 23, 40, 11]\n",
    "ages = sorted(ages)\n",
    "print(ages)\n",
    "\n",
    "ages.pop(0)\n",
    "ages.pop(-1)\n",
    "print(ages)"
   ]
  },
  {
   "cell_type": "markdown",
   "metadata": {},
   "source": [
    "Exercise 13\n",
    "You have two lists with ages of customers from different cities.\n",
    "\n",
    "berlin = [15, 13, 16, 18, 19, 10, 12 ]\n",
    "munich = [7, 13, 15, 20, 19, 18, 10, 16]\n",
    "The task is to create a new list with the common ages."
   ]
  },
  {
   "cell_type": "code",
   "execution_count": 61,
   "metadata": {},
   "outputs": [
    {
     "name": "stdout",
     "output_type": "stream",
     "text": [
      "{10, 13, 15, 16, 18, 19}\n"
     ]
    }
   ],
   "source": [
    "berlin = [15, 13, 16, 18, 19, 10, 12 ]\n",
    "munich = [7, 13, 15, 20, 19, 18, 10, 16]\n",
    "\n",
    "common_ages = set(berlin).intersection(munich)\n",
    "#common_ages_list = list(common_ages)\n",
    "print(common_ages)"
   ]
  },
  {
   "cell_type": "markdown",
   "metadata": {},
   "source": [
    "Exercise 14\n",
    "You have a list with ages.\n",
    "\n",
    "[15, 13, 16, 18, 19, 15, 10]\n",
    "Remove the duplicates."
   ]
  },
  {
   "cell_type": "code",
   "execution_count": 62,
   "metadata": {},
   "outputs": [
    {
     "name": "stdout",
     "output_type": "stream",
     "text": [
      "{10, 13, 15, 16, 18, 19}\n"
     ]
    }
   ],
   "source": [
    "ages= [15, 13, 16, 18, 19, 15, 10]\n",
    "unique_ages = set(ages)\n",
    "#unique_ages = []\n",
    "for age in ages:\n",
    "    if age not in unique_ages:\n",
    "        unique_ages.append(age)\n",
    "\n",
    "print(unique_ages)"
   ]
  },
  {
   "cell_type": "markdown",
   "metadata": {},
   "source": [
    "Functions\n",
    "Exercise 15\n",
    "Write a function that works like below:\n",
    "\n",
    "Function name: welcome\n",
    "\n",
    "welcome('Evelyn') would print- 'Welcome Evelyn, have a nice day!'\n",
    "\n",
    "welcome('Jost'), would print - 'Welcome Jost, have a nice day!'"
   ]
  },
  {
   "cell_type": "code",
   "execution_count": 18,
   "metadata": {},
   "outputs": [
    {
     "name": "stdout",
     "output_type": "stream",
     "text": [
      "Welcome Evelyn, have a nice day!\n",
      "Welcome Jost, have a nice day!\n"
     ]
    }
   ],
   "source": [
    "\n",
    "def welcome( name):\n",
    "        print(f\"Welcome {name}, have a nice day!\")\n",
    "\n",
    "welcome(\"Evelyn\")\n",
    "welcome(\"Jost\")"
   ]
  },
  {
   "cell_type": "markdown",
   "metadata": {},
   "source": [
    "Exercise 16\n",
    "Write a function that takes a string as input and calculates the length.\n",
    "\n",
    "Function name: get_length\n",
    "\n",
    "get_length('Hello') would print / return 5.\n",
    "\n",
    "get_length('Hi') would print / return 2."
   ]
  },
  {
   "cell_type": "code",
   "execution_count": 19,
   "metadata": {},
   "outputs": [
    {
     "name": "stdout",
     "output_type": "stream",
     "text": [
      "5\n",
      "2\n"
     ]
    }
   ],
   "source": [
    "\n",
    "def get_length(string):\n",
    "    print(len(string))\n",
    "\n",
    "get_length('Hello')\n",
    "get_length('Hi')"
   ]
  },
  {
   "cell_type": "markdown",
   "metadata": {},
   "source": [
    "Exercise 17\n",
    "Write a function which checks whether a number is even.\n",
    "\n",
    "Hint: Think about the modulus operator\n",
    "\n",
    "Function name: check_even\n",
    "\n",
    "check_even(6) would print / return 'Yes'\n",
    "\n",
    "check_even(5) would print / return 'No'"
   ]
  },
  {
   "cell_type": "code",
   "execution_count": 31,
   "metadata": {},
   "outputs": [
    {
     "name": "stdout",
     "output_type": "stream",
     "text": [
      "Yes\n",
      "No\n"
     ]
    }
   ],
   "source": [
    "\n",
    "def check_even(number):\n",
    "    if number % 2 == 0:\n",
    "        return 'Yes'\n",
    "    else:\n",
    "        return 'No'\n",
    "    \n",
    "result1 = check_even(6)\n",
    "print(result1) \n",
    "\n",
    "result2 = check_even(5)\n",
    "print(result2)"
   ]
  },
  {
   "cell_type": "markdown",
   "metadata": {},
   "source": [
    "Exercise 18\n",
    "Rewrite exercises 11, 12, 13, and 14 in a function.\n",
    "11."
   ]
  },
  {
   "cell_type": "code",
   "execution_count": 24,
   "metadata": {},
   "outputs": [
    {
     "name": "stdout",
     "output_type": "stream",
     "text": [
      "Bob is 24 years old.\n",
      "Jack is 28 years old.\n",
      "Lisa is 18 years old.\n",
      "Maria is 13 years old.\n",
      "Ben is 16 years old.\n",
      "Emma is 17 years old.\n",
      "Oscar is 29 years old.\n",
      "Amy is 27 years old.\n",
      "Paul is 44 years old.\n",
      "Etta is 15 years old.\n"
     ]
    }
   ],
   "source": [
    "customer_list = [\n",
    "{\"name\": \"Bob\", \"age\": 1999},\n",
    "{\"name\": \"Jack\", \"age\": 1995},\n",
    "{\"name\": \"Lisa\", \"age\": 2005},\n",
    "{\"name\": \"Maria\", \"age\": 2010},\n",
    "{\"name\": \"Ben\", \"age\": 2007},\n",
    "{\"name\": \"Emma\", \"age\": 2006},\n",
    "{\"name\": \"Oscar\", \"age\": 1994},\n",
    "{\"name\": \"Amy\", \"age\": 1996},\n",
    "{\"name\": \"Paul\", \"age\": 1979},\n",
    "{\"name\": \"Etta\", \"age\": 2008}\n",
    "]\n",
    "\n",
    "def print_customer_info(customer):\n",
    "  name = customer[\"name\"]\n",
    "  age = customer[\"age\"]\n",
    "  #print(f\"Name: {name}, Age: {age}\")\n",
    "  print(f\"{name} is {2023 - age} years old.\")\n",
    "\n",
    "def process_customer_list(customer_list):\n",
    "  for customer in customer_list:\n",
    "    print_customer_info(customer)\n",
    "\n",
    "process_customer_list(customer_list)"
   ]
  },
  {
   "cell_type": "markdown",
   "metadata": {},
   "source": [
    "Exercise 18 (12)\n",
    "Given a list of ages, remove the youngest and the oldest person.\n",
    "\n",
    "ages = [20, 24, 14, 9, 12, 13, 25, 23, 40, 11]\n",
    "For this exercise try not to use the max() and min() methods."
   ]
  },
  {
   "cell_type": "code",
   "execution_count": 57,
   "metadata": {},
   "outputs": [
    {
     "name": "stdout",
     "output_type": "stream",
     "text": [
      "[9, 11, 12, 13, 14, 20, 23, 24, 25, 40]\n",
      "[11, 12, 13, 14, 20, 23, 24, 25]\n"
     ]
    }
   ],
   "source": [
    "ages = [20, 24, 14, 9, 12, 13, 25, 23, 40, 11]\n",
    "ages = sorted(ages)\n",
    "print(ages)\n",
    "\n",
    "ages.pop(0)\n",
    "ages.pop(-1)\n",
    "print(ages)\n",
    "#def my_function(ages):\n"
   ]
  },
  {
   "cell_type": "markdown",
   "metadata": {},
   "source": [
    "Exercise 18(13)\n",
    "You have two lists with ages of customers from different cities.\n",
    "\n",
    "berlin = [15, 13, 16, 18, 19, 10, 12 ]\n",
    "munich = [7, 13, 15, 20, 19, 18, 10, 16]\n",
    "The task is to create a new list with the common ages."
   ]
  },
  {
   "cell_type": "code",
   "execution_count": null,
   "metadata": {},
   "outputs": [],
   "source": [
    "berlin = [15, 13, 16, 18, 19, 10, 12 ]\n",
    "munich = [7, 13, 15, 20, 19, 18, 10, 16]\n",
    "common_ages = set(berlin).intersection(munich)\n",
    "#common_ages_list = list(common_ages)\n",
    "print(common_ages)\n",
    "\n",
    "def method():\n",
    "    common_ages = set(berlin) & set(munich)\n",
    "print(len(common_ages))"
   ]
  },
  {
   "cell_type": "markdown",
   "metadata": {},
   "source": [
    "Exercise 18(14)\n",
    "You have a list with ages.\n",
    "\n",
    "[15, 13, 16, 18, 19, 15, 10]\n",
    "Remove the duplicates."
   ]
  },
  {
   "cell_type": "code",
   "execution_count": 63,
   "metadata": {},
   "outputs": [
    {
     "name": "stdout",
     "output_type": "stream",
     "text": [
      "[15, 13, 16, 18, 19, 10]\n"
     ]
    }
   ],
   "source": [
    "ages= [15, 13, 16, 18, 19, 15, 10]\n",
    "unique_ages = set(ages)\n",
    "unique_ages = []\n",
    "for age in ages:\n",
    "    if age not in unique_ages:\n",
    "        unique_ages.append(age)\n",
    "\n",
    "print(unique_ages)"
   ]
  },
  {
   "cell_type": "markdown",
   "metadata": {},
   "source": [
    "Exercise 19\n",
    "Write a function that takes a list of integers and also a single integer as inputs. It should return true or false if the single integer value is present or not in the list."
   ]
  },
  {
   "cell_type": "code",
   "execution_count": null,
   "metadata": {},
   "outputs": [],
   "source": []
  }
 ],
 "metadata": {
  "kernelspec": {
   "display_name": "base",
   "language": "python",
   "name": "python3"
  },
  "language_info": {
   "codemirror_mode": {
    "name": "ipython",
    "version": 3
   },
   "file_extension": ".py",
   "mimetype": "text/x-python",
   "name": "python",
   "nbconvert_exporter": "python",
   "pygments_lexer": "ipython3",
   "version": "3.12.7"
  }
 },
 "nbformat": 4,
 "nbformat_minor": 2
}
