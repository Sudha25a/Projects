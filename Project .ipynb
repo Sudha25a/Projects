{
 "cells": [
  {
   "cell_type": "code",
   "execution_count": 12,
   "metadata": {},
   "outputs": [
    {
     "name": "stdout",
     "output_type": "stream",
     "text": [
      "[9, 11, 12, 13, 14, 20, 23, 24, 25, 40]\n",
      "[11, 12, 13, 14, 20, 23, 24, 25]\n"
     ]
    }
   ],
   "source": [
    "ages = [20, 24, 14, 9, 12, 13, 25, 23, 40, 11]\n",
    "ages = sorted(ages)\n",
    "print(ages)\n",
    "\n",
    "ages.pop(0)\n",
    "ages.pop(-1)\n",
    "print(ages)\n"
   ]
  },
  {
   "cell_type": "code",
   "execution_count": 18,
   "metadata": {},
   "outputs": [
    {
     "name": "stdout",
     "output_type": "stream",
     "text": [
      "{10, 13, 15, 16, 18, 19}\n",
      "6\n"
     ]
    }
   ],
   "source": [
    "berlin = [15, 13, 16, 18, 19, 10, 12 ]\n",
    "munich = [7, 13, 15, 20, 19, 18, 10, 16]\n",
    "\n",
    "common_ages = set(berlin).intersection(munich)\n",
    "#common_ages_list = list(common_ages)\n",
    "print(common_ages)\n",
    "\n",
    "def method():\n",
    "    common_ages = set(berlin) & set(munich)\n",
    "print(len(common_ages))\n",
    "\n"
   ]
  },
  {
   "cell_type": "code",
   "execution_count": 1,
   "metadata": {},
   "outputs": [
    {
     "name": "stdout",
     "output_type": "stream",
     "text": [
      "6.881860213634101\n"
     ]
    }
   ],
   "source": [
    "import numpy\n",
    "\n",
    "data_set = (8, 12, 16, 24, 4)\n",
    "\n",
    "x = numpy.std(data_set)\n",
    "\n",
    "print(x)"
   ]
  },
  {
   "cell_type": "code",
   "execution_count": 5,
   "metadata": {},
   "outputs": [
    {
     "name": "stdout",
     "output_type": "stream",
     "text": [
      "Original Standard Deviation: 3.1622776601683795\n",
      "Standard Deviation with Outliers: 27.728845790780564\n"
     ]
    }
   ],
   "source": [
    "# Original dataset without outliers\n",
    "original_data = [10, 12, 14, 15, 16, 18, 20]\n",
    "\n",
    "# Calculate the standard deviation\n",
    "original_std = np.std(original_data)\n",
    "print(\"Original Standard Deviation:\", original_std)\n",
    "\n",
    "# Calculate the standard deviation with outliers\n",
    "outlier_std = np.std(outlier_data)\n",
    "print(\"Standard Deviation with Outliers:\", outlier_std)"
   ]
  },
  {
   "cell_type": "code",
   "execution_count": null,
   "metadata": {},
   "outputs": [],
   "source": [
    "# Original dataset without outliers\n",
    "data = [1, 2, 3, 4, 5]\n",
    "\n",
    "# Calculate the standard deviation\n",
    "original_std = np.std(data)\n",
    "print(\"Original Standard Deviation:\", original_std)"
   ]
  }
 ],
 "metadata": {
  "kernelspec": {
   "display_name": "base",
   "language": "python",
   "name": "python3"
  },
  "language_info": {
   "codemirror_mode": {
    "name": "ipython",
    "version": 3
   },
   "file_extension": ".py",
   "mimetype": "text/x-python",
   "name": "python",
   "nbconvert_exporter": "python",
   "pygments_lexer": "ipython3",
   "version": "3.12.7"
  }
 },
 "nbformat": 4,
 "nbformat_minor": 2
}
