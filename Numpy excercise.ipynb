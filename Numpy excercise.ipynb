{
 "cells": [
  {
   "cell_type": "markdown",
   "metadata": {},
   "source": [
    "Exercise 1\n",
    "There are 5 numbers in the data set: (8, 12, 16, 24, 4). What is the standard deviation? And, what will be the sum of deviations of individual data points from their mean?"
   ]
  },
  {
   "cell_type": "code",
   "execution_count": 2,
   "metadata": {},
   "outputs": [
    {
     "name": "stdout",
     "output_type": "stream",
     "text": [
      "6.881860213634101\n",
      "12.8\n"
     ]
    }
   ],
   "source": [
    "import numpy\n",
    "\n",
    "data_set = (8, 12, 16, 24, 4)\n",
    "\n",
    "x = numpy.std(data_set)\n",
    "\n",
    "print(x)\n",
    "\n",
    "x = numpy.mean(data_set)\n",
    "print(x)"
   ]
  },
  {
   "cell_type": "markdown",
   "metadata": {},
   "source": [
    "Exercise 2\n",
    "If some outliers are introduced to the dataset, what will happen to the Standard Deviation? Will it increase, decrease or remain the same?"
   ]
  }
 ],
 "metadata": {
  "kernelspec": {
   "display_name": "base",
   "language": "python",
   "name": "python3"
  },
  "language_info": {
   "codemirror_mode": {
    "name": "ipython",
    "version": 3
   },
   "file_extension": ".py",
   "mimetype": "text/x-python",
   "name": "python",
   "nbconvert_exporter": "python",
   "pygments_lexer": "ipython3",
   "version": "3.12.7"
  }
 },
 "nbformat": 4,
 "nbformat_minor": 2
}
