{
 "cells": [
  {
   "cell_type": "markdown",
   "metadata": {},
   "source": [
    "Exercise 1\n",
    "There are 5 numbers in the data set: (8, 12, 16, 24, 4). What is the standard deviation? And, what will be the sum of deviations of individual data points from their mean?"
   ]
  },
  {
   "cell_type": "code",
   "execution_count": 24,
   "metadata": {},
   "outputs": [
    {
     "name": "stdout",
     "output_type": "stream",
     "text": [
      "6.881860213634101\n",
      "12.8\n"
     ]
    }
   ],
   "source": [
    "import numpy\n",
    "\n",
    "data_set = (8, 12, 16, 24, 4)\n",
    "x = numpy.std(data_set)\n",
    "print(x)\n",
    "\n",
    "x = numpy.mean(data_set)\n",
    "print(x)"
   ]
  },
  {
   "cell_type": "markdown",
   "metadata": {},
   "source": [
    "Exercise 2\n",
    "If some outliers are introduced to the dataset, what will happen to the Standard Deviation? Will it increase, decrease or remain the same?"
   ]
  },
  {
   "cell_type": "code",
   "execution_count": 23,
   "metadata": {},
   "outputs": [
    {
     "name": "stdout",
     "output_type": "stream",
     "text": [
      "Original Std Deviation: 1.4142135623730951\n",
      "Std Deviation with Outlier: 17.563377301140637\n"
     ]
    }
   ],
   "source": [
    "data = [1, 2, 3, 4, 5]\n",
    "original_std = np.std(data)\n",
    "print(\"Original Std Deviation:\", original_std)\n",
    "\n",
    "# Introduce an outlier\n",
    "data_with_outlier = [1, 2, 3, 4, 5, 50]\n",
    "new_std = np.std(data_with_outlier)\n",
    "print(\"Std Deviation with Outlier:\", new_std)"
   ]
  },
  {
   "cell_type": "markdown",
   "metadata": {},
   "source": [
    "Exercise 3 - no Numpy\n",
    "Suppose the below positively skewed distribution has a median of 30, which of the following statement is true?\n",
    "\n",
    "A) Mean is greater than 30\n",
    "B) Mean is less than 30\n",
    "C) Mode is greater than 30\n",
    "D) Mode is less than 30\n",
    "E) Both A and D\n",
    "F) Both B and C\n"
   ]
  },
  {
   "cell_type": "markdown",
   "metadata": {},
   "source": [
    "Ans: E) Both A and D\n",
    "Mean: Is greater than the median because it is pulled towards the tail of the distribution.\n",
    "Mode: Is less than the median because it represents the most frequent value, which is typically on the left side of the distribution.\n",
    "the mean is greater than 30, and the mode is less than 30."
   ]
  },
  {
   "cell_type": "markdown",
   "metadata": {},
   "source": [
    "Exercise 4\n",
    "Which value can be the possible value for the median of the below distribution?"
   ]
  },
  {
   "cell_type": "markdown",
   "metadata": {},
   "source": [
    "The center of the distribution seems to be around the 25-30 range.\n",
    "Therefore, a reasonable estimate for the median would be around 27."
   ]
  },
  {
   "cell_type": "markdown",
   "metadata": {},
   "source": [
    "Exercise 5\n",
    "What is the shape of the distribution? (no Numpy)\n",
    "If Y axis represents the number of individuals and X axis represents the salary of the individual in thousands, how many individuals have a salary less than 10 thousand? (no Numpy)"
   ]
  },
  {
   "cell_type": "markdown",
   "metadata": {},
   "source": [
    "The shape of the distribution appears to be right-skewed.\n",
    "The majority of the data is concentrated on the left side of the graph, with a peak around the 10-20 range.\n",
    "the mean is typically greater than the median."
   ]
  },
  {
   "cell_type": "markdown",
   "metadata": {},
   "source": [
    "Exercise 6\n",
    "What would you consider to be the most appropriate measure of the center for this data?"
   ]
  },
  {
   "cell_type": "code",
   "execution_count": 35,
   "metadata": {},
   "outputs": [
    {
     "name": "stdout",
     "output_type": "stream",
     "text": [
      "Median: 55.0\n"
     ]
    }
   ],
   "source": [
    "data = [10, 20, 30, 40, 50, 60, 70, 80, 90, 100]\n",
    "median = np.median(data)\n",
    "\n",
    "print(\"Median:\", median)"
   ]
  },
  {
   "cell_type": "markdown",
   "metadata": {},
   "source": [
    "exercise 7\n",
    "If Y axis represents the number of individuals and X axis represents the salary of the individual in thousands, how many individuals have a salary less than 10 thousand? (no Numpy)"
   ]
  },
  {
   "cell_type": "markdown",
   "metadata": {},
   "source": [
    "Exercise 8\n",
    "We have a set of positive numbers. If a single value of the set is altered, what must change?\n",
    "\n",
    "A) Mean\n",
    "B) Median\n",
    "C) Mode\n",
    "D) All of these\n",
    "\n",
    "Hint: try to create a Numpy array and calculate mean median and mode, then alter it and see what changes."
   ]
  },
  {
   "cell_type": "code",
   "execution_count": 31,
   "metadata": {},
   "outputs": [
    {
     "name": "stdout",
     "output_type": "stream",
     "text": [
      "Original Mean: 3.0\n",
      "Original Median: 3.0\n",
      "New Mean: 4.8\n",
      "New Median: 4.0\n"
     ]
    }
   ],
   "source": [
    "data = np.array([1, 2, 3, 4, 5])\n",
    "\n",
    "print(\"Original Mean:\", np.mean(data))\n",
    "print(\"Original Median:\", np.median(data))\n",
    "# print(\"Original Mode:\", np.mode(data))\n",
    "\n",
    "# Change the first value\n",
    "data[0] = 10\n",
    "\n",
    "print(\"New Mean:\", np.mean(data))\n",
    "print(\"New Median:\", np.median(data))\n",
    "# print(\"New Mode:\", np.mode(data))"
   ]
  },
  {
   "cell_type": "markdown",
   "metadata": {},
   "source": [
    "Exercise 9\n",
    "The chart shows hourly consultancy rate of 10 people.\n",
    "\n",
    "Calculate the standard deviation of the salaries of the 10 employees."
   ]
  },
  {
   "cell_type": "code",
   "execution_count": 33,
   "metadata": {},
   "outputs": [
    {
     "name": "stdout",
     "output_type": "stream",
     "text": [
      "Std dev of salaries: 11.00504934614612\n"
     ]
    }
   ],
   "source": [
    "salaries = [25, 25, 25, 40, 40, 35, 50, 50, 50, 50]\n",
    "\n",
    "std_dev = statistics.stdev(salaries)\n",
    "\n",
    "print(\"Std dev of salaries:\", std_dev)"
   ]
  }
 ],
 "metadata": {
  "kernelspec": {
   "display_name": "base",
   "language": "python",
   "name": "python3"
  },
  "language_info": {
   "codemirror_mode": {
    "name": "ipython",
    "version": 3
   },
   "file_extension": ".py",
   "mimetype": "text/x-python",
   "name": "python",
   "nbconvert_exporter": "python",
   "pygments_lexer": "ipython3",
   "version": "3.12.7"
  }
 },
 "nbformat": 4,
 "nbformat_minor": 2
}
